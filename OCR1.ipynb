{
 "cells": [
  {
   "cell_type": "code",
   "execution_count": 6,
   "metadata": {
    "execution": {
     "iopub.execute_input": "2022-06-14T17:28:22.9133Z",
     "iopub.status.busy": "2022-06-14T17:28:22.912688Z",
     "iopub.status.idle": "2022-06-14T17:28:22.943253Z",
     "shell.execute_reply": "2022-06-14T17:28:22.94241Z",
     "shell.execute_reply.started": "2022-06-14T17:28:22.91323Z"
    }
   },
   "outputs": [
    {
     "name": "stdout",
     "output_type": "stream",
     "text": [
      "Libraries Imported\n"
     ]
    }
   ],
   "source": [
    "# Import Libraries\n",
    "import numpy as np # linear algebra\n",
    "import pandas as pd # data processing, csv file I/O (e.g pd.read_csv)\n",
    "import matplotlib.pyplot as plt # for plotting graphs and hingi characters\n",
    "print('Libraries Imported')\n",
    "import tensorflow as tf\n",
    "from keras import optimizers\n",
    "from tensorflow.keras.models import Sequential\n",
    "from tensorflow.keras.layers import Conv2D\n",
    "from tensorflow.keras.layers import Convolution2D,MaxPooling2D,Activation, Dropout, Flatten, Dense, BatchNormalization\n",
    "from sklearn.metrics import accuracy_score\n",
    "from keras.preprocessing.image import ImageDataGenerator\n"
   ]
  },
  {
   "cell_type": "code",
   "execution_count": 2,
   "metadata": {
    "execution": {
     "iopub.execute_input": "2022-06-14T17:28:22.945185Z",
     "iopub.status.busy": "2022-06-14T17:28:22.944836Z",
     "iopub.status.idle": "2022-06-14T17:29:05.461168Z",
     "shell.execute_reply": "2022-06-14T17:29:05.460209Z",
     "shell.execute_reply.started": "2022-06-14T17:28:22.945132Z"
    }
   },
   "outputs": [
    {
     "name": "stdout",
     "output_type": "stream",
     "text": [
      "Shabd Train Dataset loaded\n",
      "Train shape:  (243456, 1026)\n",
      "   Index label  f_1  f_2  f_3  f_4  f_5  f_6  f_7  f_8  ...  f_1015  f_1016  \\\n",
      "0     83     अ  255  255  255  255  255  255  255  255  ...     255     255   \n",
      "1    620     अ  255  255  255  255  255  255  255  255  ...     255     255   \n",
      "2    508     अ  255  255  255  255  255  255  255  255  ...     255     255   \n",
      "3    497     अ  255  255  255  255  255  255  255  255  ...     255     255   \n",
      "4    679     अ  255  255  255  255  255  255  255  255  ...     255     255   \n",
      "\n",
      "   f_1017  f_1018  f_1019  f_1020  f_1021  f_1022  f_1023  f_1024  \n",
      "0     255     255     255     255     255     255     255     255  \n",
      "1     255     255     255     255     255     255     255     255  \n",
      "2     255     255     255     255     255     255     255     255  \n",
      "3     255     255     255     255     255     255     255     255  \n",
      "4     255     255     255     255     255     255     255     255  \n",
      "\n",
      "[5 rows x 1026 columns]\n"
     ]
    }
   ],
   "source": [
    "# Loading the data set\n",
    "\n",
    "\n",
    "train = pd.read_csv(r\"C:\\Users\\comp\\Downloads\\dhabd\\train.csv\")\n",
    "print('Shabd Train Dataset loaded')\n",
    "print('Train shape: ',train.shape)\n",
    "print(train.head())"
   ]
  },
  {
   "cell_type": "code",
   "execution_count": 3,
   "metadata": {},
   "outputs": [
    {
     "name": "stdout",
     "output_type": "stream",
     "text": [
      "Index     107\n",
      "label      खू\n",
      "f_1       255\n",
      "f_2       255\n",
      "f_3       254\n",
      "         ... \n",
      "f_1020    255\n",
      "f_1021    255\n",
      "f_1022    255\n",
      "f_1023    255\n",
      "f_1024    255\n",
      "Name: 20345, Length: 1026, dtype: object\n"
     ]
    }
   ],
   "source": [
    "print(train.iloc[20345])"
   ]
  },
  {
   "cell_type": "code",
   "execution_count": 4,
   "metadata": {
    "execution": {
     "iopub.execute_input": "2022-06-14T17:29:05.463206Z",
     "iopub.status.busy": "2022-06-14T17:29:05.462786Z",
     "iopub.status.idle": "2022-06-14T17:29:14.608907Z",
     "shell.execute_reply": "2022-06-14T17:29:14.606595Z",
     "shell.execute_reply.started": "2022-06-14T17:29:05.463167Z"
    }
   },
   "outputs": [
    {
     "name": "stdout",
     "output_type": "stream",
     "text": [
      "Shabd Test Dataset loaded\n",
      "Test shape:  (60672, 1026)\n",
      "   Index label  f_1  f_2  f_3  f_4  f_5  f_6  f_7  f_8  ...  f_1015  f_1016  \\\n",
      "0     12     अ  255  255  255  255  255  255  255  255  ...     255     255   \n",
      "1     27     अ  255  255  255  255  255  255  255  255  ...     255     255   \n",
      "2     30     अ  255  255  255  255  255  255  255  255  ...     255     255   \n",
      "3     33     अ  255  255  255  255  255  255  255  255  ...     255     255   \n",
      "4     36     अ  255  255  255  255  255  255  255  255  ...     255     255   \n",
      "\n",
      "   f_1017  f_1018  f_1019  f_1020  f_1021  f_1022  f_1023  f_1024  \n",
      "0     255     255     255     255     255     255     255     255  \n",
      "1     255     255     255     255     255     255     255     255  \n",
      "2     255     255     255     255     255     255     255     255  \n",
      "3     255     255     255     255     255     255     255     255  \n",
      "4     255     255     255     255     255     255     255     255  \n",
      "\n",
      "[5 rows x 1026 columns]\n"
     ]
    }
   ],
   "source": [
    "# read test\n",
    "test = pd.read_csv(r\"C:\\Users\\comp\\Downloads\\dhabd\\test(grayscale).csv\")\n",
    "print('Shabd Test Dataset loaded')\n",
    "print(\"Test shape: \",test.shape)\n",
    "print(test.head())"
   ]
  },
  {
   "cell_type": "code",
   "execution_count": 5,
   "metadata": {
    "execution": {
     "iopub.execute_input": "2022-06-14T17:29:14.612225Z",
     "iopub.status.busy": "2022-06-14T17:29:14.611212Z",
     "iopub.status.idle": "2022-06-14T17:29:15.330397Z",
     "shell.execute_reply": "2022-06-14T17:29:15.329369Z",
     "shell.execute_reply.started": "2022-06-14T17:29:14.612187Z"
    }
   },
   "outputs": [
    {
     "name": "stdout",
     "output_type": "stream",
     "text": [
      "Seperated Features and labels from train and test sets\n",
      "X_train shape:  (243456, 1024)\n",
      "X_test shape:  (60672, 1024)\n",
      "y_train shape:  (243456,)\n",
      "y_test shape:  (60672,)\n"
     ]
    }
   ],
   "source": [
    "# put labels into train and test variable\n",
    "y_train = train['label']\n",
    "y_test = test['label']\n",
    "# Drop label column\n",
    "X_train = train.drop(labels = ['label', 'Index'], axis = 1)\n",
    "X_test = test.drop(labels = ['label', 'Index'], axis = 1)\n",
    "\n",
    "print('Seperated Features and labels from train and test sets')\n",
    "\n",
    "print('X_train shape: ',X_train.shape)\n",
    "print('X_test shape: ',X_test.shape)\n",
    "print('y_train shape: ',y_train.shape)\n",
    "print('y_test shape: ',y_test.shape)\n"
   ]
  },
  {
   "cell_type": "code",
   "execution_count": 6,
   "metadata": {
    "execution": {
     "iopub.execute_input": "2022-06-14T17:29:15.339091Z",
     "iopub.status.busy": "2022-06-14T17:29:15.338726Z",
     "iopub.status.idle": "2022-06-14T17:29:15.455846Z",
     "shell.execute_reply": "2022-06-14T17:29:15.454932Z",
     "shell.execute_reply.started": "2022-06-14T17:29:15.339043Z"
    }
   },
   "outputs": [
    {
     "data": {
      "image/png": "[encoded data removed]",
      "text/plain": [
       "<Figure size 640x480 with 1 Axes>"
      ]
     },
     "metadata": {},
     "output_type": "display_data"
    }
   ],
   "source": [
    "# plotting random sample from X_train\n",
    "img = X_train.iloc[20345].to_numpy()\n",
    "img = img.reshape((32,32))\n",
    "plt.imshow(img, cmap='gray')\n",
    "plt.axis('off')\n",
    "plt.show()"
   ]
  },
  {
   "cell_type": "code",
   "execution_count": 7,
   "metadata": {
    "execution": {
     "iopub.execute_input": "2022-06-14T17:29:15.457702Z",
     "iopub.status.busy": "2022-06-14T17:29:15.457335Z",
     "iopub.status.idle": "2022-06-14T17:29:15.542762Z",
     "shell.execute_reply": "2022-06-14T17:29:15.541957Z",
     "shell.execute_reply.started": "2022-06-14T17:29:15.457668Z"
    }
   },
   "outputs": [
    {
     "data": {
      "image/png": "[encoded data removed]",
      "text/plain": [
       "<Figure size 640x480 with 1 Axes>"
      ]
     },
     "metadata": {},
     "output_type": "display_data"
    }
   ],
   "source": [
    "# plotting random sample from X_test\n",
    "\n",
    "img = X_test.iloc[100].to_numpy()\n",
    "img = img.reshape((32,32))\n",
    "plt.imshow(img, cmap='gray')\n",
    "plt.axis('off')\n",
    "plt.show()"
   ]
  },
  {
   "cell_type": "code",
   "execution_count": 8,
   "metadata": {
    "execution": {
     "iopub.execute_input": "2022-06-14T17:29:15.552633Z",
     "iopub.status.busy": "2022-06-14T17:29:15.548424Z",
     "iopub.status.idle": "2022-06-14T17:29:21.298085Z",
     "shell.execute_reply": "2022-06-14T17:29:21.297133Z",
     "shell.execute_reply.started": "2022-06-14T17:29:15.552591Z"
    }
   },
   "outputs": [
    {
     "name": "stdout",
     "output_type": "stream",
     "text": [
      "Converted Non-Numeric Labels into numeric\n",
      "Converted into one-hot-encoding\n",
      "y_train shape:  (243456, 384)\n"
     ]
    }
   ],
   "source": [
    "#using label encoder converting non numeric cols to numeric\n",
    "\n",
    "from sklearn import preprocessing\n",
    "le = preprocessing.LabelEncoder()\n",
    "y_train = le.fit_transform(y_train)\n",
    "y_test = le.fit_transform(y_test)\n",
    "\n",
    "print(\"Converted Non-Numeric Labels into numeric\")\n",
    "\n",
    "#Label Encoding\n",
    "from keras.utils.np_utils import to_categorical # convert to one-hot-encoding\n",
    "y_train = to_categorical(y_train)\n",
    "y_test = to_categorical(y_test)\n",
    "print('Converted into one-hot-encoding')\n",
    "print('y_train shape: ' ,y_train.shape)\n"
   ]
  },
  {
   "cell_type": "code",
   "execution_count": 9,
   "metadata": {
    "execution": {
     "iopub.execute_input": "2022-06-14T17:29:21.302059Z",
     "iopub.status.busy": "2022-06-14T17:29:21.301264Z",
     "iopub.status.idle": "2022-06-14T17:29:23.788984Z",
     "shell.execute_reply": "2022-06-14T17:29:23.788133Z",
     "shell.execute_reply.started": "2022-06-14T17:29:21.302022Z"
    }
   },
   "outputs": [
    {
     "name": "stdout",
     "output_type": "stream",
     "text": [
      "Splitted the data into train and test\n"
     ]
    }
   ],
   "source": [
    "# Split the train and the validation set for the fitting\n",
    "from sklearn.model_selection import train_test_split\n",
    "\n",
    "X_train, X_val, y_train, y_val = train_test_split(X_train, y_train, test_size=0.1, random_state = 2)\n",
    "print('Splitted the data into train and test')"
   ]
  },
  {
   "cell_type": "code",
   "execution_count": 10,
   "metadata": {
    "execution": {
     "iopub.execute_input": "2022-06-14T17:29:23.791251Z",
     "iopub.status.busy": "2022-06-14T17:29:23.790228Z",
     "iopub.status.idle": "2022-06-14T17:29:24.667011Z",
     "shell.execute_reply": "2022-06-14T17:29:24.666141Z",
     "shell.execute_reply.started": "2022-06-14T17:29:23.791208Z"
    }
   },
   "outputs": [
    {
     "name": "stdout",
     "output_type": "stream",
     "text": [
      "Normalized Feature values\n",
      "X_train shape:  (219110, 1024)\n",
      "X_test shape:  (60672, 1024)\n",
      "X_val shape:  (24346, 1024)\n"
     ]
    }
   ],
   "source": [
    "# Normalize the data\n",
    "X_train = X_train / 255.0\n",
    "X_test = X_test / 255.0\n",
    "X_val = X_val / 255.0\n",
    "\n",
    "print('Normalized Feature values')\n",
    "\n",
    "print('X_train shape: ',X_train.shape)\n",
    "print('X_test shape: ',X_test.shape)\n",
    "print('X_val shape: ',X_val.shape)\n"
   ]
  },
  {
   "cell_type": "code",
   "execution_count": 11,
   "metadata": {
    "execution": {
     "iopub.execute_input": "2022-06-14T17:29:24.669059Z",
     "iopub.status.busy": "2022-06-14T17:29:24.668674Z",
     "iopub.status.idle": "2022-06-14T17:29:24.678387Z",
     "shell.execute_reply": "2022-06-14T17:29:24.677535Z",
     "shell.execute_reply.started": "2022-06-14T17:29:24.66902Z"
    }
   },
   "outputs": [
    {
     "name": "stdout",
     "output_type": "stream",
     "text": [
      "Reshaped features\n",
      "X_train shape:  (219110, 32, 32, 1)\n",
      "X_test shape:  (60672, 32, 32, 1)\n",
      "X_val shape:  (24346, 32, 32, 1)\n"
     ]
    }
   ],
   "source": [
    "# Reshape\n",
    "\n",
    "X_train = X_train.values.reshape(X_train.shape[0], 32, 32, 1)\n",
    "X_test = X_test.values.reshape(X_test.shape[0], 32, 32, 1)\n",
    "X_val = X_val.values.reshape(X_val.shape[0], 32, 32, 1)\n",
    "\n",
    "print('Reshaped features')\n",
    "\n",
    "print('X_train shape: ', X_train.shape)\n",
    "print('X_test shape: ', X_test.shape)\n",
    "print('X_val shape: ', X_val.shape)\n"
   ]
  },
  {
   "cell_type": "code",
   "execution_count": 8,
   "metadata": {
    "execution": {
     "iopub.execute_input": "2022-06-14T17:29:24.680902Z",
     "iopub.status.busy": "2022-06-14T17:29:24.680139Z",
     "iopub.status.idle": "2022-06-14T17:29:27.717814Z",
     "shell.execute_reply": "2022-06-14T17:29:27.717036Z",
     "shell.execute_reply.started": "2022-06-14T17:29:24.680864Z"
    }
   },
   "outputs": [
    {
     "name": "stdout",
     "output_type": "stream",
     "text": [
      "Model: \"sequential\"\n",
      "_________________________________________________________________\n",
      " Layer (type)                Output Shape              Param #   \n",
      "=================================================================\n",
      " conv2d (Conv2D)             (None, 28, 28, 8)         208       \n",
      "                                                                 \n",
      " batch_normalization (BatchN  (None, 28, 28, 8)        32        \n",
      " ormalization)                                                   \n",
      "                                                                 \n",
      " dropout (Dropout)           (None, 28, 28, 8)         0         \n",
      "                                                                 \n",
      " max_pooling2d (MaxPooling2D  (None, 14, 14, 8)        0         \n",
      " )                                                               \n",
      "                                                                 \n",
      " dropout_1 (Dropout)         (None, 14, 14, 8)         0         \n",
      "                                                                 \n",
      " conv2d_1 (Conv2D)           (None, 12, 12, 8)         584       \n",
      "                                                                 \n",
      " batch_normalization_1 (Batc  (None, 12, 12, 8)        32        \n",
      " hNormalization)                                                 \n",
      "                                                                 \n",
      " max_pooling2d_1 (MaxPooling  (None, 6, 6, 8)          0         \n",
      " 2D)                                                             \n",
      "                                                                 \n",
      " dropout_2 (Dropout)         (None, 6, 6, 8)           0         \n",
      "                                                                 \n",
      " flatten (Flatten)           (None, 288)               0         \n",
      "                                                                 \n",
      " dense (Dense)               (None, 3000)              867000    \n",
      "                                                                 \n",
      " batch_normalization_2 (Batc  (None, 3000)             12000     \n",
      " hNormalization)                                                 \n",
      "                                                                 \n",
      " dense_1 (Dense)             (None, 1000)              3001000   \n",
      "                                                                 \n",
      " batch_normalization_3 (Batc  (None, 1000)             4000      \n",
      " hNormalization)                                                 \n",
      "                                                                 \n",
      " dense_2 (Dense)             (None, 384)               384384    \n",
      "                                                                 \n",
      "=================================================================\n",
      "Total params: 4,269,240\n",
      "Trainable params: 4,261,208\n",
      "Non-trainable params: 8,032\n",
      "_________________________________________________________________\n",
      "None\n"
     ]
    }
   ],
   "source": [
    "#build model\n",
    "model = Sequential()\n",
    "\n",
    "#Layer1----------------------------------------------------------\n",
    "model.add(Conv2D(filters = 8,\n",
    "\t\t\tkernel_size = (5,5),\n",
    "\t\t\tstrides = 1,\n",
    "\t\t\tactivation = \"relu\",\n",
    "\t\t\tinput_shape = (32,32,1)))\n",
    "\n",
    "model.add(BatchNormalization())\n",
    "model.add(Dropout(0.25))\n",
    "model.add(MaxPooling2D(pool_size=(2, 2),\n",
    "\t\t\tstrides=(2, 2),\n",
    "\t\t\tpadding=\"same\"))\n",
    "model.add(Dropout(0.25))\n",
    "\n",
    "\n",
    " \n",
    "\n",
    "\n",
    "#Layers 2-----------------------------------------------------------\t\n",
    "model.add(Conv2D(filters = 8,\n",
    "\t\t\tkernel_size = (3,3),\n",
    "\t\t\tstrides = 1,\n",
    "\t\t\tactivation = \"relu\"))\n",
    "model.add(BatchNormalization())\n",
    "model.add(MaxPooling2D(pool_size=(2, 2),\n",
    "\t\t\tstrides=(2, 2),\n",
    "\t\t\tpadding=\"same\"))\n",
    "model.add(Dropout(0.2))\n",
    "\n",
    "\n",
    "model.add(Flatten())\n",
    "\n",
    "model.add(Dense(3000,\n",
    "\t\tactivation = \"relu\",\n",
    "\t\tkernel_initializer = \"uniform\"))\n",
    "model.add(BatchNormalization())\t\t\t\n",
    "\n",
    "model.add(Dense(1000,\n",
    "\t\tactivation = \"relu\",\n",
    "\t\tkernel_initializer = \"uniform\"))\n",
    "model.add(BatchNormalization())\t\t\t\n",
    "\n",
    "model.add(Dense(384,\n",
    "\t\tactivation = \"sigmoid\",\n",
    "\t\tkernel_initializer = \"uniform\"))\t\t\t\n",
    "\t\t\t\n",
    "model.compile(optimizer = \"adam\",\n",
    "\t\tloss = \"categorical_crossentropy\",\n",
    "\t\tmetrics = [\"accuracy\"])\n",
    "\t\t\n",
    "print(model.summary())"
   ]
  },
  {
   "cell_type": "code",
   "execution_count": 18,
   "metadata": {
    "execution": {
     "iopub.execute_input": "2022-06-14T17:29:27.727656Z",
     "iopub.status.busy": "2022-06-14T17:29:27.727271Z",
     "iopub.status.idle": "2022-06-14T17:29:27.753983Z",
     "shell.execute_reply": "2022-06-14T17:29:27.753112Z",
     "shell.execute_reply.started": "2022-06-14T17:29:27.727611Z"
    }
   },
   "outputs": [
    {
     "name": "stdout",
     "output_type": "stream",
     "text": [
      "Model Compiled\n"
     ]
    }
   ],
   "source": [
    "# Compile the model\n",
    "model.compile(optimizer = optimizer, loss = 'categorical_crossentropy', metrics=['accuracy'])\n",
    "print('Model Compiled')"
   ]
  },
  {
   "cell_type": "code",
   "execution_count": 14,
   "metadata": {
    "execution": {
     "iopub.execute_input": "2022-06-14T17:29:27.757388Z",
     "iopub.status.busy": "2022-06-14T17:29:27.757067Z",
     "iopub.status.idle": "2022-06-14T17:29:27.7621Z",
     "shell.execute_reply": "2022-06-14T17:29:27.761028Z",
     "shell.execute_reply.started": "2022-06-14T17:29:27.757363Z"
    }
   },
   "outputs": [
    {
     "name": "stdout",
     "output_type": "stream",
     "text": [
      "Set Epoch as:  50\n",
      "Set Batch Size as:  10\n"
     ]
    }
   ],
   "source": [
    "epochs = 10 # for better result increase the epochs\n",
    "batch_size = 200\n",
    "print('Set Epoch as: ',epochs)\n",
    "print('Set Batch Size as: ',batch_size)"
   ]
  },
  {
   "cell_type": "code",
   "execution_count": 15,
   "metadata": {
    "execution": {
     "iopub.execute_input": "2022-06-14T17:29:27.764524Z",
     "iopub.status.busy": "2022-06-14T17:29:27.763802Z",
     "iopub.status.idle": "2022-06-14T17:29:29.023652Z",
     "shell.execute_reply": "2022-06-14T17:29:29.022774Z",
     "shell.execute_reply.started": "2022-06-14T17:29:27.764487Z"
    }
   },
   "outputs": [
    {
     "name": "stdout",
     "output_type": "stream",
     "text": [
      "Data Augmentation Done\n"
     ]
    }
   ],
   "source": [
    "#data augmentation\n",
    "datagen = ImageDataGenerator(\n",
    "    rotation_range= 5, \n",
    "    zoom_range = 0.1, \n",
    "    width_shift_range=0.1,\n",
    "    height_shift_range=0.1,\n",
    ")\n",
    "\n",
    "datagen.fit(X_train)\n",
    "print('Data Augmentation Done')\n",
    "\n"
   ]
  },
  {
   "cell_type": "code",
   "execution_count": null,
   "metadata": {
    "execution": {
     "iopub.execute_input": "2022-06-14T17:29:29.025637Z",
     "iopub.status.busy": "2022-06-14T17:29:29.024794Z",
     "iopub.status.idle": "2022-06-14T17:32:57.29867Z",
     "shell.execute_reply": "2022-06-14T17:32:57.296946Z",
     "shell.execute_reply.started": "2022-06-14T17:29:29.025595Z"
    }
   },
   "outputs": [],
   "source": [
    "import tensorflow as tf\n",
    "from keras import callbacks\n",
    "# Running on GPU if present\n",
    "with tf.device('/gpu:0'):\n",
    "    # Fit the model\n",
    "    history = model.fit_generator(datagen.flow(X_train, y_train),\n",
    "                    epochs = epochs, validation_data = (X_val, y_val),\n",
    "                    steps_per_epoch=X_train.shape[0] // batch_size,)\n",
    "\n",
    "print('Fitted the Model with data')"
   ]
  },
  {
   "cell_type": "code",
   "execution_count": 21,
   "metadata": {
    "execution": {
     "iopub.execute_input": "2022-06-14T17:32:57.300411Z",
     "iopub.status.busy": "2022-06-14T17:32:57.300047Z",
     "iopub.status.idle": "2022-06-14T17:32:57.487347Z",
     "shell.execute_reply": "2022-06-14T17:32:57.486316Z",
     "shell.execute_reply.started": "2022-06-14T17:32:57.300375Z"
    }
   },
   "outputs": [
    {
     "data": {
      "image/png": "[encoded data removed]",
      "text/plain": [
       "<Figure size 640x480 with 1 Axes>"
      ]
     },
     "metadata": {},
     "output_type": "display_data"
    }
   ],
   "source": [
    "# Plot the loss and accuracy curves for training and validation\n",
    "plt.plot(history.history['val_loss'], color='b', label='validation loss')\n",
    "plt.title('Test Loss')\n",
    "plt.xlabel('Number of Epochs')\n",
    "\n",
    "plt.ylabel('Loss')\n",
    "plt.legend()\n",
    "plt.show()"
   ]
  },
  {
   "cell_type": "code",
   "execution_count": 22,
   "metadata": {
    "execution": {
     "iopub.execute_input": "2022-06-14T17:32:57.488909Z",
     "iopub.status.busy": "2022-06-14T17:32:57.488532Z",
     "iopub.status.idle": "2022-06-14T17:33:28.110615Z",
     "shell.execute_reply": "2022-06-14T17:33:28.109609Z",
     "shell.execute_reply.started": "2022-06-14T17:32:57.488873Z"
    }
   },
   "outputs": [
    {
     "name": "stdout",
     "output_type": "stream",
     "text": [
      "Evaluating the Model\n"
     ]
    }
   ],
   "source": [
    "# evaluate the model\n",
    "train_mse = model.evaluate(X_train, y_train, verbose=0)\n",
    "test_mse = model.evaluate(X_test, y_test, verbose=0)\n",
    "\n",
    "print('Evaluating the Model')"
   ]
  },
  {
   "cell_type": "code",
   "execution_count": 23,
   "metadata": {
    "execution": {
     "iopub.execute_input": "2022-06-14T17:33:28.112661Z",
     "iopub.status.busy": "2022-06-14T17:33:28.112205Z",
     "iopub.status.idle": "2022-06-14T17:33:28.119447Z",
     "shell.execute_reply": "2022-06-14T17:33:28.11852Z",
     "shell.execute_reply.started": "2022-06-14T17:33:28.112613Z"
    }
   },
   "outputs": [
    {
     "name": "stdout",
     "output_type": "stream",
     "text": [
      "Train accuracy : 0.908, Test accuracy : 0.903\n"
     ]
    }
   ],
   "source": [
    "print('Train accuracy : %.3f, Test accuracy : %.3f' % (train_mse[1], test_mse[1]))"
   ]
  },
  {
   "cell_type": "code",
   "execution_count": 24,
   "metadata": {},
   "outputs": [],
   "source": [
    "model.save(\"Hindiv3.h5\")"
   ]
  },
  {
   "cell_type": "code",
   "execution_count": 37,
   "metadata": {
    "scrolled": true
   },
   "outputs": [
    {
     "name": "stdout",
     "output_type": "stream",
     "text": [
      "[INFO] loading network...\n",
      "1/1 [==============================] - 1s 971ms/step\n",
      "The letter is  शी\n",
      "341\n"
     ]
    }
   ],
   "source": [
    "#set labels\n",
    "labels = [u'\\u091E',u'\\u091F',u'\\u0920',u'\\u0921',u'\\u0922',u'\\u0923',u'\\u0924',u'\\u0925',u'\\u0926',u'\\u0927',u'\\u0915',u'\\u0928',u'\\u092A',u'\\u092B',u'\\u092c',u'\\u092d',u'\\u092e',u'\\u092f',u'\\u0930',u'\\u0932',u'\\u0935',u'\\u0916',u'\\u0936',u'\\u0937',u'\\u0938',u'\\u0939','ksha','tra','gya',u'\\u0917',u'\\u0918',u'\\u0919',u'\\u091a',u'\\u091b',u'\\u091c',u'\\u091d',u'\\u0966',u'\\u0967',u'\\u0968',u'\\u0969',u'\\u096a',u'\\u096b',u'\\u096c',u'\\u096d',u'\\u096e',u'\\u096f']\n",
    "import numpy as np\n",
    "from keras.preprocessing import image\n",
    "from tensorflow.keras.utils import img_to_array\n",
    "import tensorflow as tf\n",
    "test_image = cv2.imread(r\"C:\\Users\\comp\\Downloads\\DevanagariHandwrittenCharacterDataset\\DevanagariHandwrittenCharacterDataset\\Test\\character_3_ga\\11933.png\")\n",
    "#preprocessing\n",
    "image = cv2.resize(test_image, (32,32))\n",
    "image = image.astype(\"float\") / 255.0\n",
    "image = img_to_array(image)\n",
    "image = cv2.cvtColor(image, cv2.COLOR_BGR2GRAY)\n",
    "image = np.expand_dims(image, axis=0)\n",
    "image = np.expand_dims(image, axis=3)\n",
    "print(\"[INFO] loading network...\")\n",
    "#load the saved weights of the model\n",
    "model = tf.keras.models.load_model(\"Hindiv3.h5\")\n",
    "lists = model.predict(image)[0]\n",
    "#prediction\n",
    "print(\"The letter is \",labels2[np.argmax(lists)])\n",
    "arg=(np.argmax(lists))\n",
    "print(arg)\n"
   ]
  },
  {
   "cell_type": "code",
   "execution_count": null,
   "metadata": {},
   "outputs": [],
   "source": []
  },
  {
   "cell_type": "code",
   "execution_count": null,
   "metadata": {},
   "outputs": [],
   "source": []
  }
 ],
 "metadata": {
  "kernelspec": {
   "display_name": "Python 3 (ipykernel)",
   "language": "python",
   "name": "python3"
  },
  "language_info": {
   "codemirror_mode": {
    "name": "ipython",
    "version": 3
   },
   "file_extension": ".py",
   "mimetype": "text/x-python",
   "name": "python",
   "nbconvert_exporter": "python",
   "pygments_lexer": "ipython3",
   "version": "3.10.7"
  }
 },
 "nbformat": 4,
 "nbformat_minor": 4
}
